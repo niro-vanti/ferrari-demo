{
 "cells": [
  {
   "cell_type": "code",
   "execution_count": 1,
   "id": "c2e59e14-95e8-4bae-896c-13fe1d3ef263",
   "metadata": {},
   "outputs": [],
   "source": [
    "from sklearn.datasets import make_biclusters\n",
    "import pandas as pd\n",
    "from sklearn."
   ]
  },
  {
   "cell_type": "code",
   "execution_count": 3,
   "id": "7b6d0a67-af4b-4d7a-969e-a03774d92725",
   "metadata": {},
   "outputs": [
    {
     "name": "stdout",
     "output_type": "stream",
     "text": [
      "Help on function make_biclusters in module sklearn.datasets._samples_generator:\n",
      "\n",
      "make_biclusters(shape, n_clusters, *, noise=0.0, minval=10, maxval=100, shuffle=True, random_state=None)\n",
      "    Generate an array with constant block diagonal structure for\n",
      "    biclustering.\n",
      "    \n",
      "    Read more in the :ref:`User Guide <sample_generators>`.\n",
      "    \n",
      "    Parameters\n",
      "    ----------\n",
      "    shape : iterable of shape (n_rows, n_cols)\n",
      "        The shape of the result.\n",
      "    \n",
      "    n_clusters : int\n",
      "        The number of biclusters.\n",
      "    \n",
      "    noise : float, default=0.0\n",
      "        The standard deviation of the gaussian noise.\n",
      "    \n",
      "    minval : int, default=10\n",
      "        Minimum value of a bicluster.\n",
      "    \n",
      "    maxval : int, default=100\n",
      "        Maximum value of a bicluster.\n",
      "    \n",
      "    shuffle : bool, default=True\n",
      "        Shuffle the samples.\n",
      "    \n",
      "    random_state : int, RandomState instance or None, default=None\n",
      "        Determines random number generation for dataset creation. Pass an int\n",
      "        for reproducible output across multiple function calls.\n",
      "        See :term:`Glossary <random_state>`.\n",
      "    \n",
      "    Returns\n",
      "    -------\n",
      "    X : ndarray of shape `shape`\n",
      "        The generated array.\n",
      "    \n",
      "    rows : ndarray of shape (n_clusters, X.shape[0])\n",
      "        The indicators for cluster membership of each row.\n",
      "    \n",
      "    cols : ndarray of shape (n_clusters, X.shape[1])\n",
      "        The indicators for cluster membership of each column.\n",
      "    \n",
      "    References\n",
      "    ----------\n",
      "    \n",
      "    .. [1] Dhillon, I. S. (2001, August). Co-clustering documents and\n",
      "        words using bipartite spectral graph partitioning. In Proceedings\n",
      "        of the seventh ACM SIGKDD international conference on Knowledge\n",
      "        discovery and data mining (pp. 269-274). ACM.\n",
      "    \n",
      "    See Also\n",
      "    --------\n",
      "    make_checkerboard\n",
      "\n"
     ]
    }
   ],
   "source": [
    "help (make_biclusters)"
   ]
  },
  {
   "cell_type": "code",
   "execution_count": 4,
   "id": "33337a4a-6bd6-43a4-90c9-50fcc73427ee",
   "metadata": {},
   "outputs": [],
   "source": [
    "x = make_biclusters((1000,500),3 )"
   ]
  },
  {
   "cell_type": "code",
   "execution_count": 14,
   "id": "0daa5110-5fb6-4bd8-a485-60c3ca7791cb",
   "metadata": {},
   "outputs": [
    {
     "ename": "NameError",
     "evalue": "name 'pd' is not defined",
     "output_type": "error",
     "traceback": [
      "\u001b[0;31m---------------------------------------------------------------------------\u001b[0m",
      "\u001b[0;31mNameError\u001b[0m                                 Traceback (most recent call last)",
      "\u001b[0;32m<ipython-input-14-889c04b61d08>\u001b[0m in \u001b[0;36m<module>\u001b[0;34m\u001b[0m\n\u001b[0;32m----> 1\u001b[0;31m \u001b[0mdata\u001b[0m \u001b[0;34m=\u001b[0m \u001b[0mpd\u001b[0m\u001b[0;34m.\u001b[0m\u001b[0mDataFrame\u001b[0m\u001b[0;34m(\u001b[0m\u001b[0mx\u001b[0m\u001b[0;34m[\u001b[0m\u001b[0;36m0\u001b[0m\u001b[0;34m]\u001b[0m\u001b[0;34m)\u001b[0m\u001b[0;34m\u001b[0m\u001b[0;34m\u001b[0m\u001b[0m\n\u001b[0m",
      "\u001b[0;31mNameError\u001b[0m: name 'pd' is not defined"
     ]
    }
   ],
   "source": [
    "data = pd.DataFrame(x[0])"
   ]
  },
  {
   "cell_type": "code",
   "execution_count": 13,
   "id": "88f5de06-ad94-4972-a20b-6ac31b9496e1",
   "metadata": {},
   "outputs": [
    {
     "data": {
      "text/plain": [
       "array([[31.29902363,  0.        ,  0.        , ...,  0.        ,\n",
       "         0.        , 31.29902363],\n",
       "       [ 0.        , 14.9132856 , 14.9132856 , ...,  0.        ,\n",
       "         0.        ,  0.        ],\n",
       "       [ 0.        , 14.9132856 , 14.9132856 , ...,  0.        ,\n",
       "         0.        ,  0.        ],\n",
       "       ...,\n",
       "       [31.29902363,  0.        ,  0.        , ...,  0.        ,\n",
       "         0.        , 31.29902363],\n",
       "       [ 0.        , 14.9132856 , 14.9132856 , ...,  0.        ,\n",
       "         0.        ,  0.        ],\n",
       "       [ 0.        , 14.9132856 , 14.9132856 , ...,  0.        ,\n",
       "         0.        ,  0.        ]])"
      ]
     },
     "execution_count": 13,
     "metadata": {},
     "output_type": "execute_result"
    }
   ],
   "source": [
    "data"
   ]
  },
  {
   "cell_type": "code",
   "execution_count": null,
   "id": "8e1d14fe-68c6-45e9-9339-f60e3e1036a5",
   "metadata": {},
   "outputs": [],
   "source": []
  }
 ],
 "metadata": {
  "kernelspec": {
   "display_name": "Python 3",
   "language": "python",
   "name": "python3"
  },
  "language_info": {
   "codemirror_mode": {
    "name": "ipython",
    "version": 3
   },
   "file_extension": ".py",
   "mimetype": "text/x-python",
   "name": "python",
   "nbconvert_exporter": "python",
   "pygments_lexer": "ipython3",
   "version": "3.6.8"
  }
 },
 "nbformat": 4,
 "nbformat_minor": 5
}
